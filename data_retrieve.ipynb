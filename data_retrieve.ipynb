{
 "cells": [
  {
   "cell_type": "markdown",
   "id": "a68ce0ab",
   "metadata": {
    "id": "a68ce0ab"
   },
   "source": [
    "mp-id를 저장해 놓은 csv를 통해 데이터를 불러오는 코드"
   ]
  },
  {
   "cell_type": "code",
   "execution_count": null,
   "id": "B1mct-FDkbuA",
   "metadata": {
    "id": "B1mct-FDkbuA"
   },
   "outputs": [],
   "source": [
    "!pip install matminer"
   ]
  },
  {
   "cell_type": "code",
   "execution_count": null,
   "id": "SwE-Rp1OlAzj",
   "metadata": {
    "id": "SwE-Rp1OlAzj"
   },
   "outputs": [],
   "source": [
    "!pip install pymatgen"
   ]
  },
  {
   "cell_type": "code",
   "execution_count": null,
   "id": "G7OnYqbflENt",
   "metadata": {
    "id": "G7OnYqbflENt"
   },
   "outputs": [],
   "source": [
    "import matminer\n",
    "dir(matminer)"
   ]
  },
  {
   "cell_type": "code",
   "execution_count": null,
   "id": "9_4mJ3dAlJYw",
   "metadata": {
    "id": "9_4mJ3dAlJYw"
   },
   "outputs": [],
   "source": [
    "import pymatgen\n",
    "dir(pymatgen)"
   ]
  },
  {
   "cell_type": "code",
   "execution_count": null,
   "id": "ee74fedd",
   "metadata": {
    "id": "ee74fedd"
   },
   "outputs": [],
   "source": [
    "import matminer\n",
    "from matminer.data_retrieval.retrieve_MP import MPDataRetrieval\n",
    "import pandas as pd\n",
    "\n",
    "import os\n",
    "import json\n",
    "from pymatgen.core.structure import Structure"
   ]
  },
  {
   "cell_type": "code",
   "execution_count": null,
   "id": "7oRoU9ANlP31",
   "metadata": {
    "colab": {
     "base_uri": "https://localhost:8080/"
    },
    "id": "7oRoU9ANlP31",
    "outputId": "d77decc1-64d8-4c25-a2e3-1846ccaa0448"
   },
   "outputs": [
    {
     "name": "stdout",
     "output_type": "stream",
     "text": [
      "Mounted at /content/drive\n"
     ]
    }
   ],
   "source": [
    "from google.colab import drive\n",
    "drive.mount('/content/drive')"
   ]
  },
  {
   "cell_type": "code",
   "execution_count": null,
   "id": "f664fda1",
   "metadata": {
    "id": "f664fda1"
   },
   "outputs": [],
   "source": [
    "mpdr = MPDataRetrieval(\"hOTsDRNKlBoEHd4f\") # 자신의 Materials Project API 사용"
   ]
  },
  {
   "cell_type": "code",
   "execution_count": null,
   "id": "73e0a044",
   "metadata": {
    "id": "73e0a044"
   },
   "outputs": [],
   "source": [
    "mp_list = pd.read_csv(\"/content/drive/MyDrive/packages/cgcnn/cgcnn-master/data/material-data/mp-ids-46744.csv\", header = None)[0].tolist()"
   ]
  },
  {
   "cell_type": "code",
   "execution_count": null,
   "id": "3d872536",
   "metadata": {
    "id": "3d872536"
   },
   "outputs": [],
   "source": [
    "len(mp_list)"
   ]
  },
  {
   "cell_type": "code",
   "execution_count": null,
   "id": "c9dc4e0b",
   "metadata": {
    "id": "c9dc4e0b"
   },
   "outputs": [],
   "source": [
    "dt = mpdr.get_dataframe(criteria = {\"task_ids\":{\"$in\":mp_list}}, properties = ['task_id','energy_per_atom','cif', 'pretty_formula', 'spacegroup'])"
   ]
  },
  {
   "cell_type": "code",
   "execution_count": null,
   "id": "99cd147c",
   "metadata": {
    "id": "99cd147c"
   },
   "outputs": [],
   "source": [
    "dt2 = dt.copy()\n",
    "dt2.replace(r'(\\w+)[-](\\d+)',r'\\2', regex = True, inplace = True)\n",
    "dt2"
   ]
  },
  {
   "cell_type": "code",
   "execution_count": null,
   "id": "21e91442",
   "metadata": {
    "id": "21e91442"
   },
   "outputs": [],
   "source": [
    "cif_str = dt2[[\"task_id\", \"cif\"]]\n",
    "len(cif_str)"
   ]
  },
  {
   "cell_type": "code",
   "execution_count": null,
   "id": "393edcd6",
   "metadata": {
    "id": "393edcd6"
   },
   "outputs": [],
   "source": [
    "cif_str"
   ]
  },
  {
   "cell_type": "code",
   "execution_count": null,
   "id": "6dafa50a",
   "metadata": {
    "id": "6dafa50a"
   },
   "outputs": [],
   "source": [
    "cif_group = dict()\n",
    "\n",
    "for i in range(len(cif_str)):\n",
    "    temp = Structure.from_str(input_string = cif_str[\"cif\"][i], fmt = \"cif\")\n",
    "    cifjson = temp.to_json()\n",
    "    cif_group[cif_str[\"task_id\"][i]] = cifjson\n",
    "\n",
    "with open(\"/content/drive/MyDrive/packages/cgcnn/cgcnn-master/data/data_retrieve_test/cif_group.json\", \"w\", encoding = \"utf-8\") as make_file:\n",
    "    json.dump(cif_group, make_file)"
   ]
  },
  {
   "cell_type": "code",
   "execution_count": null,
   "id": "3154ed8d",
   "metadata": {
    "id": "3154ed8d"
   },
   "outputs": [],
   "source": [
    "dt3 = dt2.loc[:, [\"task_id\", \"energy_per_atom\"]]\n",
    "dt3"
   ]
  },
  {
   "cell_type": "code",
   "execution_count": null,
   "id": "mg3E_5XyLrg0",
   "metadata": {
    "id": "mg3E_5XyLrg0"
   },
   "outputs": [],
   "source": [
    "dt3 = dt2.loc[:, [\"task_id\", \"energy_per_atom\"]]\n",
    "dt3.to_csv(\"/directory/where/your/train_data/is\", header = False, index = False)"
   ]
  },
  {
   "cell_type": "code",
   "execution_count": null,
   "id": "6e3354d4",
   "metadata": {
    "id": "6e3354d4"
   },
   "outputs": [],
   "source": [
    "dt3.to_csv(\"/content/drive/MyDrive/packages/cgcnn/cgcnn-master/data/data_retrieve_test/id_prop.csv\", header = False, index = False)"
   ]
  },
  {
   "cell_type": "code",
   "execution_count": null,
   "id": "58bac009",
   "metadata": {
    "id": "58bac009"
   },
   "outputs": [],
   "source": [
    "# 확인\n",
    "with open(\"/content/drive/MyDrive/packages/cgcnn/cgcnn-master/data/data_retrieve_test/cif_group.json\", \"r\") as read_file:\n",
    "    json_data = json.load(read_file)"
   ]
  },
  {
   "cell_type": "code",
   "execution_count": null,
   "id": "MGLD9QAimNDk",
   "metadata": {
    "id": "MGLD9QAimNDk"
   },
   "outputs": [],
   "source": [
    "json_data['10003']"
   ]
  },
  {
   "cell_type": "code",
   "execution_count": null,
   "id": "BBMbzGtymOYE",
   "metadata": {
    "id": "BBMbzGtymOYE"
   },
   "outputs": [],
   "source": [
    "crystal = Structure.from_str(json_data['10003'], fmt = \"json\")\n",
    "crystal"
   ]
  }
 ],
 "metadata": {
  "colab": {
   "collapsed_sections": [],
   "name": "cif_group_json_loader_final.ipynb",
   "provenance": []
  },
  "kernelspec": {
   "display_name": "Python 3",
   "language": "python",
   "name": "python3"
  },
  "language_info": {
   "codemirror_mode": {
    "name": "ipython",
    "version": 3
   },
   "file_extension": ".py",
   "mimetype": "text/x-python",
   "name": "python",
   "nbconvert_exporter": "python",
   "pygments_lexer": "ipython3",
   "version": "3.8.5"
  }
 },
 "nbformat": 4,
 "nbformat_minor": 5
}
