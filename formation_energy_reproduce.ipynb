{
 "cells": [
  {
   "cell_type": "markdown",
   "metadata": {
    "id": "81LHhU689YQY"
   },
   "source": [
    "formation energy per atom 의 결과물을 reproduce 하는 코드\n",
    "\n",
    "MAE 와 R2 score 분석을 통해 모델 성능 확인"
   ]
  },
  {
   "cell_type": "code",
   "execution_count": null,
   "metadata": {
    "colab": {
     "base_uri": "https://localhost:8080/"
    },
    "id": "ZDgN_mNZ8F4s",
    "outputId": "266edf22-8112-4b37-8089-d3173b188c45"
   },
   "outputs": [],
   "source": [
    "# 할당받은 GPU 성능 확인\n",
    "!nvidia-smi"
   ]
  },
  {
   "cell_type": "code",
   "execution_count": null,
   "metadata": {
    "id": "zMuUcicP9hGA"
   },
   "outputs": [],
   "source": [
    "!pip install pymatgen==2020.11.11"
   ]
  },
  {
   "cell_type": "code",
   "execution_count": null,
   "metadata": {
    "id": "AISHaH1DWOob"
   },
   "outputs": [],
   "source": [
    "import pymatgen\n",
    "dir(pymatgen)"
   ]
  },
  {
   "cell_type": "markdown",
   "metadata": {
    "id": "m3WHDuGcWir-"
   },
   "source": [
    "# CGCNN 모델 학습"
   ]
  },
  {
   "cell_type": "code",
   "execution_count": null,
   "metadata": {
    "id": "B55I1Ig99whm"
   },
   "outputs": [],
   "source": [
    "import time\n",
    "import sys\n",
    "import os\n",
    "import torch\n",
    "import sklearn\n",
    "import pandas as pd\n",
    "import shutil\n",
    "\n",
    "from sklearn.metrics import mean_squared_error\n",
    "from sklearn.metrics import mean_absolute_error\n",
    "from sklearn.metrics import r2_score\n",
    "from sklearn import metrics\n",
    "\n",
    "import matplotlib.pyplot as plt\n",
    "from matplotlib.colors import LogNorm"
   ]
  },
  {
   "cell_type": "code",
   "execution_count": null,
   "metadata": {
    "id": "8TUr0rOz-EQ_"
   },
   "outputs": [],
   "source": [
    "def check_time(init_time, fin_time):\n",
    "    time_interval = fin_time - init_time\n",
    "    hour = time_interval // 3600\n",
    "    time_interval = time_interval - 3600 * hour\n",
    "    min = time_interval // 60\n",
    "    time_interval = time_interval - 60 * min\n",
    "    sec = round(time_interval)\n",
    "\n",
    "    return(\"{} hours {} mins {} secs\".format(hour, min, sec))"
   ]
  },
  {
   "cell_type": "code",
   "execution_count": null,
   "metadata": {},
   "outputs": [],
   "source": [
    "def data_plot(path = \"/content/drive/MyDrive/packages/cgcnn/cgcnn-master/results/formation_energy/test_results.csv\"):\n",
    "    dt = pd.read_csv(path, header = None)\n",
    "    predicted_data = list(dt.iloc[:,2])\n",
    "    real_data = list(dt.iloc[:,1])\n",
    "\n",
    "    test_number = len(predicted_data)\n",
    "\n",
    "    RMSE = mean_squared_error(real_data, predicted_data, squared = False)\n",
    "    MAE = mean_absolute_error(real_data, predicted_data)\n",
    "    r2 = r2_score(real_data, predicted_data)\n",
    "    \n",
    "    fig, ax = plt.subplots()\n",
    "\n",
    "    ax.hist2d(real_data, predicted_data, norm=LogNorm(), bins=(100,100), cmap='Blues', alpha=0.7)\n",
    "\n",
    "    ax.plot(ax.get_xlim(), ax.get_xlim(), 'k--')\n",
    "\n",
    "    ax.set_xlabel('MP band gap (eV)')\n",
    "    ax.set_ylabel('ML band gap (eV)')\n",
    "\n",
    "    fig.set_size_inches(5, 5)\n",
    "    fig.tight_layout()\n",
    "\n",
    "    plt.show()\n",
    "\n",
    "    print(\"\\n\"+\"test number : {}, RMSE : {}, MAE : {}, R2 : {}\".format(test_number, RMSE, MAE, r2))"
   ]
  },
  {
   "cell_type": "code",
   "execution_count": null,
   "metadata": {
    "colab": {
     "base_uri": "https://localhost:8080/"
    },
    "id": "f1SSw2BA-20s",
    "outputId": "4c25ffc6-5ddd-484f-b085-4bf9bbcb8ecf"
   },
   "outputs": [],
   "source": [
    "from google.colab import drive\n",
    "drive.mount('/content/drive')"
   ]
  },
  {
   "cell_type": "code",
   "execution_count": null,
   "metadata": {
    "id": "oZOJY_dF-6GG"
   },
   "outputs": [],
   "source": [
    "my_path = '/content/drive/MyDrive/packages/cgcnn/cgcnn-master/data/formation_energy_training/formation_energy'\n",
    "sys.path.insert(0, my_path)"
   ]
  },
  {
   "cell_type": "code",
   "execution_count": null,
   "metadata": {
    "id": "wPeS_yWm_FeM"
   },
   "outputs": [],
   "source": [
    "os.chdir('/content/drive/MyDrive/packages/cgcnn/cgcnn-master/data/formation_energy_training/formation_energy')"
   ]
  },
  {
   "cell_type": "code",
   "execution_count": null,
   "metadata": {
    "id": "UNkownXzbaya"
   },
   "outputs": [],
   "source": [
    "dir_list = os.listdir(\"/content/drive/MyDrive/packages/cgcnn/cgcnn-master/data/formation_energy_training/formation_energy\")"
   ]
  },
  {
   "cell_type": "code",
   "execution_count": null,
   "metadata": {
    "colab": {
     "base_uri": "https://localhost:8080/"
    },
    "id": "QJe-i7kDbfl4",
    "outputId": "e08de77c-9533-4a8b-de3d-bdcedf4a8d11"
   },
   "outputs": [],
   "source": [
    "len(dir_list)"
   ]
  },
  {
   "cell_type": "markdown",
   "metadata": {
    "id": "JKkDMnYp_LOR"
   },
   "source": [
    "# 학습 시작"
   ]
  },
  {
   "cell_type": "code",
   "execution_count": null,
   "metadata": {
    "colab": {
     "base_uri": "https://localhost:8080/"
    },
    "id": "ufrAiEUV_IM1",
    "outputId": "1a46bf73-56da-431e-91cc-e32428d7643f"
   },
   "outputs": [],
   "source": [
    "time_1 = time.time()\n",
    "\n",
    "!python ../../../main.py ./ --train-ratio 0.6 --val-ratio 0.2 --test-ratio 0.2 --epochs 1000 --n-conv 4 --h-fea-len 32 --lr 0.02 --lr-milestones 800 --print-freq 120\n",
    "\n",
    "time_2 = time.time()"
   ]
  },
  {
   "cell_type": "code",
   "execution_count": null,
   "metadata": {
    "colab": {
     "base_uri": "https://localhost:8080/",
     "height": 35
    },
    "id": "UT98160QTg-7",
    "outputId": "cd145791-ea7f-4e4b-d18e-9a3bfdc160bb"
   },
   "outputs": [],
   "source": [
    "check_time(time_1, time_2)"
   ]
  },
  {
   "cell_type": "code",
   "execution_count": null,
   "metadata": {},
   "outputs": [],
   "source": [
    "data_plot(\"/content/drive/MyDrive/packages/cgcnn/cgcnn-master/results/formation_energy/test_results.csv\")"
   ]
  }
 ],
 "metadata": {
  "accelerator": "GPU",
  "colab": {
   "collapsed_sections": [
    "HNoR2EQxVcos"
   ],
   "name": "formation_energy_reproduce.ipynb",
   "provenance": []
  },
  "kernelspec": {
   "display_name": "Python 3",
   "language": "python",
   "name": "python3"
  },
  "language_info": {
   "codemirror_mode": {
    "name": "ipython",
    "version": 3
   },
   "file_extension": ".py",
   "mimetype": "text/x-python",
   "name": "python",
   "nbconvert_exporter": "python",
   "pygments_lexer": "ipython3",
   "version": "3.8.5"
  }
 },
 "nbformat": 4,
 "nbformat_minor": 1
}
